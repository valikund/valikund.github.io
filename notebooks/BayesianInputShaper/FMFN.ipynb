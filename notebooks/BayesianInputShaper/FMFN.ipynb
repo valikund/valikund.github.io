{
 "cells": [
  {
   "cell_type": "code",
   "execution_count": 1,
   "metadata": {},
   "outputs": [],
   "source": [
    "from bayes_opt import BayesianOptimization\n",
    "from numpy.random import seed\n",
    "import libCERNBotPy as cbp\n",
    "from numpy import genfromtxt\n",
    "import numpy as np\n",
    "from time import sleep\n",
    "import matplotlib.pyplot as plt\n",
    "plt.rcParams[\"figure.figsize\"] = (20,10)\n",
    "%matplotlib inline\n",
    "from scipy import signal\n",
    "from bayes_opt.observer import JSONLogger, ScreenLogger\n",
    "from bayes_opt.event import Events\n",
    "from sklearn.gaussian_process.kernels import Matern, RBF"
   ]
  },
  {
   "cell_type": "code",
   "execution_count": 2,
   "metadata": {},
   "outputs": [],
   "source": [
    "#Init robot\n",
    "wr = cbp.Wrapper(\"can0\", \"vmuLog.csv\")\n",
    "wr.init()\n",
    "wr.setVelocity(0., -0.025)\n",
    "poslimit = [0,-5]"
   ]
  },
  {
   "cell_type": "code",
   "execution_count": 6,
   "metadata": {},
   "outputs": [],
   "source": [
    "#For safety reasons (dist is positive)\n",
    "direction = 1\n",
    "def decideVelocityDirection(dist):\n",
    "    global direction\n",
    "    x = wr.getXposition()\n",
    "    direction *= -1\n",
    "    return direction\n",
    "wr.setVelocity(0., -0.7)\n",
    "\n",
    "Taccel = 0.25\n",
    "def moveRobot(A2, dT):\n",
    "    v_desired = (1.5 + A2) * Taccel \n",
    "    A = v_desired / Taccel\n",
    "    sign = decideVelocityDirection(v_desired*3)\n",
    "    A1 = 1.5\n",
    "    wr.setVelocity(sign * A1 * Taccel, A1)\n",
    "    sleep(dT/1000.0)\n",
    "    A2 = A2\n",
    "    wr.setVelocity(sign * v_desired, A2)\n",
    "    sleep(3)\n",
    "    wr.setVelocity(0., 0.5)\n",
    "    \n",
    "def func(a1, t1):\n",
    "    losscum = 0\n",
    "    for _ in range(2):\n",
    "        wr.startVMULogger()\n",
    "        sleep(0.1)\n",
    "        moveRobot(a1, t1)\n",
    "        wr.stopVMULogger()\n",
    "        vmu = genfromtxt(\"vmuLog.csv\", delimiter=\";\")\n",
    "\n",
    "        ##Filter\n",
    "        w = 0.05\n",
    "        b, a = signal.butter(5, w, 'low')\n",
    "        output = signal.filtfilt(b, a, vmu[:,1])\n",
    "        loss = np.sum(np.sqrt(np.power(output, 2))/ vmu.shape[0]) \n",
    "        losscum += loss\n",
    "        #loss = np.sum(np.sqrt(np.power(vmu[:, 1], 2)))/ vmu.shape[0] #RMSE\n",
    "        fig, ax = plt.subplots( nrows=1, ncols=1 )  # create figure & 1 axis\n",
    "        ax.plot(vmu[:,1])\n",
    "        fig.savefig('figures/K{:.2f}_T2{:.2f}_loss{:.2f}.png'.format(a1, t1,loss))\n",
    "        plt.close()\n",
    "        sleep(5)\n",
    "    return -losscum/2"
   ]
  },
  {
   "cell_type": "code",
   "execution_count": 13,
   "metadata": {},
   "outputs": [],
   "source": [
    "logger = JSONLogger(path=\"logs.json\")\n",
    "optimizer = BayesianOptimization(\n",
    "    func,\n",
    "    {'a1': (0, 1.5),\n",
    "    't1': (300, 1000)})\n",
    "optimizer.subscribe(Events.OPTMIZATION_STEP, logger)\n",
    "optimizer.subscribe(Events.OPTMIZATION_STEP, ScreenLogger(verbose=2))\n",
    "optimizer.set_gp_params(kernel=Matern(length_scale=[0.1, 10]))"
   ]
  },
  {
   "cell_type": "code",
   "execution_count": 14,
   "metadata": {},
   "outputs": [
    {
     "name": "stdout",
     "output_type": "stream",
     "text": [
      "| \u001b[0m 1       \u001b[0m | \u001b[0m-10.29   \u001b[0m | \u001b[0m 0.7195  \u001b[0m | \u001b[0m 371.3   \u001b[0m |\n",
      "| \u001b[95m 2       \u001b[0m | \u001b[95m-6.868   \u001b[0m | \u001b[95m 1.225   \u001b[0m | \u001b[95m 685.1   \u001b[0m |\n",
      "| \u001b[0m 3       \u001b[0m | \u001b[0m-10.46   \u001b[0m | \u001b[0m 1.066   \u001b[0m | \u001b[0m 442.8   \u001b[0m |\n",
      "| \u001b[95m 4       \u001b[0m | \u001b[95m-5.333   \u001b[0m | \u001b[95m 0.472   \u001b[0m | \u001b[95m 902.0   \u001b[0m |\n",
      "| \u001b[0m 5       \u001b[0m | \u001b[0m-7.301   \u001b[0m | \u001b[0m 0.06732 \u001b[0m | \u001b[0m 567.9   \u001b[0m |\n",
      "| \u001b[0m 6       \u001b[0m | \u001b[0m-7.205   \u001b[0m | \u001b[0m 0.0     \u001b[0m | \u001b[0m 786.7   \u001b[0m |\n",
      "| \u001b[0m 7       \u001b[0m | \u001b[0m-6.219   \u001b[0m | \u001b[0m 0.212   \u001b[0m | \u001b[0m 1e+03   \u001b[0m |\n",
      "| \u001b[0m 8       \u001b[0m | \u001b[0m-6.916   \u001b[0m | \u001b[0m 1.5     \u001b[0m | \u001b[0m 944.7   \u001b[0m |\n",
      "| \u001b[95m 9       \u001b[0m | \u001b[95m-5.008   \u001b[0m | \u001b[95m 1.049   \u001b[0m | \u001b[95m 825.6   \u001b[0m |\n",
      "| \u001b[0m 10      \u001b[0m | \u001b[0m-5.667   \u001b[0m | \u001b[0m 0.8469  \u001b[0m | \u001b[0m 1e+03   \u001b[0m |\n",
      "| \u001b[95m 11      \u001b[0m | \u001b[95m-4.857   \u001b[0m | \u001b[95m 0.6748  \u001b[0m | \u001b[95m 778.3   \u001b[0m |\n",
      "| \u001b[95m 12      \u001b[0m | \u001b[95m-4.659   \u001b[0m | \u001b[95m 0.7981  \u001b[0m | \u001b[95m 873.8   \u001b[0m |\n",
      "| \u001b[0m 13      \u001b[0m | \u001b[0m-7.729   \u001b[0m | \u001b[0m 0.0     \u001b[0m | \u001b[0m 300.0   \u001b[0m |\n",
      "| \u001b[95m 14      \u001b[0m | \u001b[95m-4.504   \u001b[0m | \u001b[95m 0.8373  \u001b[0m | \u001b[95m 810.3   \u001b[0m |\n",
      "| \u001b[0m 15      \u001b[0m | \u001b[0m-4.799   \u001b[0m | \u001b[0m 0.6396  \u001b[0m | \u001b[0m 836.0   \u001b[0m |\n",
      "| \u001b[0m 16      \u001b[0m | \u001b[0m-4.913   \u001b[0m | \u001b[0m 0.8844  \u001b[0m | \u001b[0m 748.4   \u001b[0m |\n",
      "| \u001b[0m 17      \u001b[0m | \u001b[0m-5.218   \u001b[0m | \u001b[0m 1.004   \u001b[0m | \u001b[0m 908.7   \u001b[0m |\n",
      "| \u001b[0m 18      \u001b[0m | \u001b[0m-5.112   \u001b[0m | \u001b[0m 0.6878  \u001b[0m | \u001b[0m 926.8   \u001b[0m |\n",
      "| \u001b[0m 19      \u001b[0m | \u001b[0m-4.719   \u001b[0m | \u001b[0m 0.8911  \u001b[0m | \u001b[0m 842.9   \u001b[0m |\n",
      "| \u001b[0m 20      \u001b[0m | \u001b[0m-5.559   \u001b[0m | \u001b[0m 0.5831  \u001b[0m | \u001b[0m 691.2   \u001b[0m |\n",
      "| \u001b[0m 21      \u001b[0m | \u001b[0m-4.735   \u001b[0m | \u001b[0m 0.7631  \u001b[0m | \u001b[0m 830.1   \u001b[0m |\n",
      "| \u001b[0m 22      \u001b[0m | \u001b[0m-6.087   \u001b[0m | \u001b[0m 1.5     \u001b[0m | \u001b[0m 793.6   \u001b[0m |\n",
      "| \u001b[0m 23      \u001b[0m | \u001b[0m-4.757   \u001b[0m | \u001b[0m 0.9377  \u001b[0m | \u001b[0m 788.4   \u001b[0m |\n",
      "| \u001b[0m 24      \u001b[0m | \u001b[0m-5.553   \u001b[0m | \u001b[0m 0.432   \u001b[0m | \u001b[0m 790.6   \u001b[0m |\n",
      "| \u001b[0m 25      \u001b[0m | \u001b[0m-15.08   \u001b[0m | \u001b[0m 1.5     \u001b[0m | \u001b[0m 300.0   \u001b[0m |\n",
      "| \u001b[0m 26      \u001b[0m | \u001b[0m-4.748   \u001b[0m | \u001b[0m 0.8112  \u001b[0m | \u001b[0m 783.8   \u001b[0m |\n",
      "| \u001b[0m 27      \u001b[0m | \u001b[0m-7.065   \u001b[0m | \u001b[0m 0.0     \u001b[0m | \u001b[0m 919.4   \u001b[0m |\n",
      "| \u001b[0m 28      \u001b[0m | \u001b[0m-5.294   \u001b[0m | \u001b[0m 0.5525  \u001b[0m | \u001b[0m 1e+03   \u001b[0m |\n",
      "| \u001b[0m 29      \u001b[0m | \u001b[0m-4.879   \u001b[0m | \u001b[0m 0.6553  \u001b[0m | \u001b[0m 876.1   \u001b[0m |\n",
      "| \u001b[0m 30      \u001b[0m | \u001b[0m-4.894   \u001b[0m | \u001b[0m 0.72    \u001b[0m | \u001b[0m 734.0   \u001b[0m |\n",
      "| \u001b[0m 31      \u001b[0m | \u001b[0m-5.36    \u001b[0m | \u001b[0m 0.8311  \u001b[0m | \u001b[0m 684.9   \u001b[0m |\n",
      "| \u001b[0m 32      \u001b[0m | \u001b[0m-4.638   \u001b[0m | \u001b[0m 0.9045  \u001b[0m | \u001b[0m 814.5   \u001b[0m |\n",
      "| \u001b[0m 33      \u001b[0m | \u001b[0m-4.991   \u001b[0m | \u001b[0m 0.8435  \u001b[0m | \u001b[0m 902.6   \u001b[0m |\n",
      "| \u001b[0m 34      \u001b[0m | \u001b[0m-6.137   \u001b[0m | \u001b[0m 1.247   \u001b[0m | \u001b[0m 860.4   \u001b[0m |\n",
      "| \u001b[0m 35      \u001b[0m | \u001b[0m-6.377   \u001b[0m | \u001b[0m 1.171   \u001b[0m | \u001b[0m 1e+03   \u001b[0m |\n"
     ]
    }
   ],
   "source": [
    "optimizer.maximize( init_points=5,\n",
    "    n_iter=30, acq=\"ucb\", kappa=5.0)"
   ]
  },
  {
   "cell_type": "code",
   "execution_count": 15,
   "metadata": {},
   "outputs": [
    {
     "name": "stdout",
     "output_type": "stream",
     "text": [
      "Trial 0\n",
      "Trial 1\n",
      "Trial 2\n",
      "Trial 3\n",
      "Trial 4\n",
      "Trial 5\n",
      "Trial 6\n",
      "Trial 7\n",
      "Trial 8\n",
      "Trial 9\n"
     ]
    }
   ],
   "source": [
    "loss1 = []\n",
    "loss2 = []\n",
    "loss3 = []\n",
    "for i in range(10):\n",
    "    print(\"Trial {}\".format(i+1))\n",
    "    loss1.append(-func(optimizer.max[\"params\"][\"a1\"], optimizer.max[\"params\"][\"t1\"]))\n",
    "    loss2.append(-func(0.6, 927))\n",
    "    loss3.append(-func(0., 1000))"
   ]
  },
  {
   "cell_type": "code",
   "execution_count": 16,
   "metadata": {},
   "outputs": [
    {
     "data": {
      "image/png": "[encoded data removed]",
      "text/plain": [
       "<Figure size 432x288 with 1 Axes>"
      ]
     },
     "metadata": {
      "needs_background": "light"
     },
     "output_type": "display_data"
    }
   ],
   "source": [
    "x = np.linspace(1, len(loss1), len(loss1))\n",
    "p1 = plt.scatter(x, loss1)\n",
    "p2 = plt.scatter(x, loss2)\n",
    "p2 = plt.scatter(x, loss3)\n",
    "plt.legend((\"Bayes\",\"Shaping\", \"No Shaping\"))\n",
    "plt.show()"
   ]
  },
  {
   "cell_type": "code",
   "execution_count": 22,
   "metadata": {},
   "outputs": [],
   "source": [
    "moveRobot(0.6, 927)"
   ]
  },
  {
   "cell_type": "code",
   "execution_count": 18,
   "metadata": {},
   "outputs": [
    {
     "data": {
      "text/plain": [
       "True"
      ]
     },
     "execution_count": 18,
     "metadata": {},
     "output_type": "execute_result"
    }
   ],
   "source": [
    "wr.setVelocity(0.6, 1.8)\n",
    "sleep(250/1000.0)\n",
    "sleep(4)#2.5)\n",
    "wr.setVelocity(0., 0.5)"
   ]
  },
  {
   "cell_type": "code",
   "execution_count": 30,
   "metadata": {
    "scrolled": true
   },
   "outputs": [
    {
     "data": {
      "text/plain": [
       "[8.629270389676408,\n",
       " 8.648136618547014,\n",
       " 8.604288699350581,\n",
       " 8.591022041955343,\n",
       " 8.57477726953817,\n",
       " 8.500803270985653,\n",
       " 8.448755196538585,\n",
       " 8.427190537316545,\n",
       " 8.41872193697526,\n",
       " 8.48985616419684]"
      ]
     },
     "execution_count": 30,
     "metadata": {},
     "output_type": "execute_result"
    }
   ],
   "source": [
    "loss3"
   ]
  },
  {
   "cell_type": "code",
   "execution_count": 4,
   "metadata": {},
   "outputs": [
    {
     "data": {
      "text/plain": [
       "True"
      ]
     },
     "execution_count": 4,
     "metadata": {},
     "output_type": "execute_result"
    }
   ],
   "source": [
    "wr.startVMULogger()"
   ]
  },
  {
   "cell_type": "code",
   "execution_count": 5,
   "metadata": {},
   "outputs": [
    {
     "data": {
      "text/plain": [
       "True"
      ]
     },
     "execution_count": 5,
     "metadata": {},
     "output_type": "execute_result"
    }
   ],
   "source": [
    "wr.stopVMULogger()"
   ]
  },
  {
   "cell_type": "code",
   "execution_count": 8,
   "metadata": {},
   "outputs": [
    {
     "data": {
      "image/png": "[encoded data removed]",
      "text/plain": [
       "<Figure size 432x288 with 1 Axes>"
      ]
     },
     "metadata": {
      "needs_background": "light"
     },
     "output_type": "display_data"
    }
   ],
   "source": [
    "vmu = genfromtxt(\"vmuLog.csv\", delimiter=\";\")\n",
    "plt.plot(vmu[660:,1])\n",
    "plt.show()"
   ]
  },
  {
   "cell_type": "code",
   "execution_count": 9,
   "metadata": {},
   "outputs": [
    {
     "name": "stdout",
     "output_type": "stream",
     "text": [
      "The K factor is : 0.5910289064817592\n",
      "The second impulse is at : 937.0021246738952 msec\n"
     ]
    },
    {
     "name": "stderr",
     "output_type": "stream",
     "text": [
      "/home/robotronics/.local/lib/python3.5/site-packages/ipykernel_launcher.py:2: RuntimeWarning: invalid value encountered in sqrt\n",
      "  \n"
     ]
    },
    {
     "data": {
      "image/png": "[encoded data removed]",
      "text/plain": [
       "<Figure size 432x288 with 1 Axes>"
      ]
     },
     "metadata": {
      "needs_background": "light"
     },
     "output_type": "display_data"
    }
   ],
   "source": [
    "def dampedVibration(x, A, omega, damping, x0):\n",
    "    coeff = np.sqrt(1 - damping*damping)\n",
    "    y = (A * omega) / coeff * np.exp(-damping * omega * (x - x0)) * np.sin(omega * coeff* (x - x0))\n",
    "    return y\n",
    "#Damped oscillation\n",
    "from scipy.optimize import curve_fit\n",
    "ydata = vmu[660:,1]\n",
    "xdata = np.linspace(0, ydata.shape[0]-1, ydata.shape[0])\n",
    "p0 = [300, 0.05, 0, 0]\n",
    "popt, pcov = curve_fit(dampedVibration, xdata, ydata, p0)\n",
    "plt.plot(xdata, dampedVibration(xdata, popt[0], popt[1], popt[2], popt[3]))\n",
    "plt.plot(xdata,ydata)\n",
    "damping = popt[2]\n",
    "K = np.exp((-damping * np.pi) / (1- damping* damping))\n",
    "print(\"The K factor is : {}\".format(K))\n",
    "omega = popt[1]\n",
    "# This is in VMU measurement units, which is 5 millisec\n",
    "t_i = np.pi / (omega * np.sqrt(1-damping* damping))\n",
    "print(\"The second impulse is at : {} msec\".format(t_i * 5))\n",
    "#"
   ]
  },
  {
   "cell_type": "code",
   "execution_count": 19,
   "metadata": {},
   "outputs": [
    {
     "name": "stdout",
     "output_type": "stream",
     "text": [
      "4.7847090419304195\n"
     ]
    }
   ],
   "source": [
    "vmu = genfromtxt(\"vmuLog.csv\", delimiter=\";\")\n",
    "\n",
    "##Filter\n",
    "w = 0.05\n",
    "b, a = signal.butter(5, w, 'low')\n",
    "output = signal.filtfilt(b, a, vmu[:,1])\n",
    "loss = np.sum(np.sqrt(np.power(output, 2)))/ vmu.shape[0] \n",
    "print(loss)"
   ]
  },
  {
   "cell_type": "code",
   "execution_count": 53,
   "metadata": {},
   "outputs": [
    {
     "data": {
      "text/plain": [
       "True"
      ]
     },
     "execution_count": 53,
     "metadata": {},
     "output_type": "execute_result"
    }
   ],
   "source": [
    "wr.setVelocity(0., 0.2)"
   ]
  },
  {
   "cell_type": "code",
   "execution_count": null,
   "metadata": {},
   "outputs": [],
   "source": []
  }
 ],
 "metadata": {
  "kernelspec": {
   "display_name": "Python 3",
   "language": "python",
   "name": "python3"
  },
  "language_info": {
   "codemirror_mode": {
    "name": "ipython",
    "version": 3
   },
   "file_extension": ".py",
   "mimetype": "text/x-python",
   "name": "python",
   "nbconvert_exporter": "python",
   "pygments_lexer": "ipython3",
   "version": "3.5.2"
  }
 },
 "nbformat": 4,
 "nbformat_minor": 2
}
